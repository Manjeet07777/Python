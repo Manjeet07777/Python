{
 "cells": [
  {
   "cell_type": "code",
   "execution_count": 2,
   "id": "26375d77-05fb-4319-8ff0-6d506cba9361",
   "metadata": {},
   "outputs": [
    {
     "name": "stdin",
     "output_type": "stream",
     "text": [
      "Please enter your first name:  Manjeet\n",
      "Please enter your last name:  Singh\n"
     ]
    },
    {
     "name": "stdout",
     "output_type": "stream",
     "text": [
      "Singh Manjeet\n"
     ]
    }
   ],
   "source": [
    "#Part 2\n",
    "#program 1 String Operato\n",
    "# Prompt the user for their first and last names\n",
    "first_name = input(\"Please enter your first name: \")\n",
    "last_name = input(\"Please enter your last name: \")\n",
    "\n",
    "# Construct the reversed name string\n",
    "reversed_name = f\"{last_name} {first_name}\"\n",
    "\n",
    "# Output the reversed name\n",
    "print(reversed_name)\n"
   ]
  },
  {
   "cell_type": "code",
   "execution_count": 4,
   "id": "732b0757-888d-4f1a-adac-0f0e809e0336",
   "metadata": {},
   "outputs": [
    {
     "name": "stdin",
     "output_type": "stream",
     "text": [
      "Enter a number:  10\n"
     ]
    },
    {
     "name": "stdout",
     "output_type": "stream",
     "text": [
      "Integer value: 10\n",
      "Float value: 10.0\n",
      "Complex value: (10+0j)\n"
     ]
    }
   ],
   "source": [
    "#Porgram 2 Numeric Data Types and conversion Function\n",
    "\n",
    "# Get input from the user\n",
    "user_input = input(\"Enter a number: \")\n",
    "\n",
    "# Attempt to convert the input to different numeric types\n",
    "try:\n",
    "    # Convert input to integer\n",
    "    int_value = int(user_input)\n",
    "except ValueError:\n",
    "    int_value = \"Invalid input for integer conversion\"\n",
    "\n",
    "try:\n",
    "    # Convert input to float\n",
    "    float_value = float(user_input)\n",
    "except ValueError:\n",
    "    float_value = \"Invalid input for float conversion\"\n",
    "\n",
    "try:\n",
    "    # Convert input to complex\n",
    "    complex_value = complex(user_input)\n",
    "except ValueError:\n",
    "    complex_value = \"Invalid input for complex conversion\"\n",
    "\n",
    "# Display the converted values\n",
    "print(f\"Integer value: {int_value}\")\n",
    "print(f\"Float value: {float_value}\")\n",
    "print(f\"Complex value: {complex_value}\")\n"
   ]
  },
  {
   "cell_type": "code",
   "execution_count": 9,
   "id": "a1185ac0-d934-4cfa-94cf-25bedec7f329",
   "metadata": {},
   "outputs": [
    {
     "name": "stdin",
     "output_type": "stream",
     "text": [
      "Enter the length of the rectangle:  10\n",
      "Enter the width of the rectangle:  10\n"
     ]
    },
    {
     "name": "stdout",
     "output_type": "stream",
     "text": [
      "The area of the rectangle is: 100.0\n",
      "Area of Rectangle: 100.0\n"
     ]
    }
   ],
   "source": [
    "# program 3 Simple Input and Output \n",
    "#Create a python script that calculates the area of a rectangle.\n",
    "# Get the length and width of the rectangle from the user\n",
    "length = float(input(\"Enter the length of the rectangle: \"))\n",
    "width = float(input(\"Enter the width of the rectangle: \"))\n",
    "\n",
    "# Calculate the area\n",
    "area = length * width\n",
    "\n",
    "# Display the result\n",
    "print(f\"The area of the rectangle is: {area}\")\n",
    "\n",
    "# Using the format function\n",
    "fstr = \"Area of Rectangle: {}\"\n",
    "\n",
    "# Corrected print statement\n",
    "print(fstr.format(area))"
   ]
  },
  {
   "cell_type": "code",
   "execution_count": 11,
   "id": "d491ca11-3d1d-4915-aecb-f54e124ff926",
   "metadata": {},
   "outputs": [
    {
     "name": "stdin",
     "output_type": "stream",
     "text": [
      "Enter the first number:  123\n",
      "Enter the second number:  145\n",
      "Enter the third number:  234\n"
     ]
    },
    {
     "name": "stdout",
     "output_type": "stream",
     "text": [
      "The average of the numbers is: 167.33\n"
     ]
    }
   ],
   "source": [
    "#program 4 The % Method and print function\n",
    "#write a python script that takes three numbers as input and prints their average using the % method for string formatting\n",
    "# Get three numbers from the user\n",
    "num1 = float(input(\"Enter the first number: \"))\n",
    "num2 = float(input(\"Enter the second number: \"))\n",
    "num3 = float(input(\"Enter the third number: \"))\n",
    "\n",
    "# Calculate the average\n",
    "average = (num1 + num2 + num3) / 3\n",
    "\n",
    "# Print the average using the % method for string formatting\n",
    "print(\"The average of the numbers is: %.2f\" % average)\n"
   ]
  },
  {
   "cell_type": "code",
   "execution_count": null,
   "id": "37ec2159-3cc0-4a91-823b-b1ab4cdd93ba",
   "metadata": {},
   "outputs": [],
   "source": [
    "#part 3 Language Components"
   ]
  },
  {
   "cell_type": "code",
   "execution_count": 13,
   "id": "6818f28c-a5fe-4d14-a496-5641a5400573",
   "metadata": {},
   "outputs": [
    {
     "name": "stdin",
     "output_type": "stream",
     "text": [
      "Enter a number (or type 'exit' to quit):  10\n"
     ]
    },
    {
     "name": "stdout",
     "output_type": "stream",
     "text": [
      "The number is positive.\n"
     ]
    },
    {
     "name": "stdin",
     "output_type": "stream",
     "text": [
      "Enter a number (or type 'exit' to quit):  12\n"
     ]
    },
    {
     "name": "stdout",
     "output_type": "stream",
     "text": [
      "The number is positive.\n"
     ]
    },
    {
     "name": "stdin",
     "output_type": "stream",
     "text": [
      "Enter a number (or type 'exit' to quit):  exit\n"
     ]
    },
    {
     "name": "stdout",
     "output_type": "stream",
     "text": [
      "Exiting the program.\n"
     ]
    }
   ],
   "source": [
    "#Program 2 write a python program that asks the user for a number and determine whether it is positive, negative, or zero \n",
    "#implement a loop that continues to ask the user for a number until they enter 'exit' use break  \n",
    "#to exit the loop and continue to prompt for a new number if the input is not 'exit'\n",
    "\n",
    "while True:\n",
    "    # Get input from the user\n",
    "    user_input = input(\"Enter a number (or type 'exit' to quit): \")\n",
    "\n",
    "    # Check if the user wants to exit the loop\n",
    "    if user_input.lower() == 'exit':\n",
    "        print(\"Exiting the program.\")\n",
    "        break\n",
    "\n",
    "    # Check if the input is a valid number\n",
    "    if user_input.replace('.', '', 1).isdigit() or \\\n",
    "       (user_input.startswith('-') and user_input[1:].replace('.', '', 1).isdigit()):\n",
    "        # Convert the input to a float\n",
    "        number = float(user_input)\n",
    "\n",
    "        # Determine whether the number is positive, negative, or zero\n",
    "        if number > 0:\n",
    "            print(\"The number is positive.\")\n",
    "        elif number < 0:\n",
    "            print(\"The number is negative.\")\n",
    "        else:\n",
    "            print(\"The number is zero.\")\n",
    "    else:\n",
    "        print(\"Invalid input. Please enter a valid number.\")\n"
   ]
  },
  {
   "cell_type": "code",
   "execution_count": 15,
   "id": "19ae42f4-bb6a-4926-b0bf-39d0c1464e35",
   "metadata": {},
   "outputs": [
    {
     "name": "stdin",
     "output_type": "stream",
     "text": [
      "Enter the first number:  239\n",
      "Enter the second number:  234\n"
     ]
    },
    {
     "name": "stdout",
     "output_type": "stream",
     "text": [
      "One number is even and the other is odd.\n"
     ]
    }
   ],
   "source": [
    "#Program 2\n",
    "#Creata a python script that takes two number as input and print whether both number  are even odd or one of each using relational and logical operators\n",
    "# Get two numbers from the user\n",
    "num1 = int(input(\"Enter the first number: \"))\n",
    "num2 = int(input(\"Enter the second number: \"))\n",
    "\n",
    "# Determine if each number is even or odd using modulus operator\n",
    "num1_even = (num1 % 2 == 0)\n",
    "num2_even = (num2 % 2 == 0)\n",
    "\n",
    "# Use logical operators to determine the relationship between the two numbers\n",
    "if num1_even and num2_even:\n",
    "    print(\"Both numbers are even.\")\n",
    "elif not num1_even and not num2_even:\n",
    "    print(\"Both numbers are odd.\")\n",
    "else:\n",
    "    print(\"One number is even and the other is odd.\")\n"
   ]
  },
  {
   "cell_type": "code",
   "execution_count": 17,
   "id": "7f5e800c-fb65-4593-87f7-b13ad7869953",
   "metadata": {},
   "outputs": [
    {
     "name": "stdin",
     "output_type": "stream",
     "text": [
      "Enter an integer:  10\n"
     ]
    },
    {
     "name": "stdout",
     "output_type": "stream",
     "text": [
      "Binary equivalent: 1010\n",
      "Octal equivalent: 12\n",
      "Hexadecimal equivalent: A\n"
     ]
    }
   ],
   "source": [
    "#program 3\n",
    "#write a python program that takes an integer input and prints its binary, octal and hexadecimal equivalents using a for loop and bitwise operators\n",
    "def to_binary(num):\n",
    "    if num == 0:\n",
    "        return \"0\"\n",
    "    binary_str = \"\"\n",
    "    while num > 0:\n",
    "        binary_str = str(num & 1) + binary_str\n",
    "        num >>= 1\n",
    "    return binary_str\n",
    "\n",
    "def to_octal(num):\n",
    "    if num == 0:\n",
    "        return \"0\"\n",
    "    octal_str = \"\"\n",
    "    while num > 0:\n",
    "        octal_str = str(num & 7) + octal_str\n",
    "        num >>= 3\n",
    "    return octal_str\n",
    "\n",
    "def to_hexadecimal(num):\n",
    "    hex_digits = \"0123456789ABCDEF\"\n",
    "    if num == 0:\n",
    "        return \"0\"\n",
    "    hex_str = \"\"\n",
    "    while num > 0:\n",
    "        hex_str = hex_digits[num & 15] + hex_str\n",
    "        num >>= 4\n",
    "    return hex_str\n",
    "\n",
    "# Get an integer input from the user\n",
    "number = int(input(\"Enter an integer: \"))\n",
    "\n",
    "# Convert and print binary, octal, and hexadecimal equivalents\n",
    "binary_equivalent = to_binary(number)\n",
    "octal_equivalent = to_octal(number)\n",
    "hexadecimal_equivalent = to_hexadecimal(number)\n",
    "\n",
    "print(f\"Binary equivalent: {binary_equivalent}\")\n",
    "print(f\"Octal equivalent: {octal_equivalent}\")\n",
    "print(f\"Hexadecimal equivalent: {hexadecimal_equivalent}\")\n"
   ]
  },
  {
   "cell_type": "code",
   "execution_count": null,
   "id": "e99a497d-79d1-416c-8008-34b57af367d1",
   "metadata": {},
   "outputs": [],
   "source": []
  }
 ],
 "metadata": {
  "kernelspec": {
   "display_name": "Python 3 (ipykernel)",
   "language": "python",
   "name": "python3"
  },
  "language_info": {
   "codemirror_mode": {
    "name": "ipython",
    "version": 3
   },
   "file_extension": ".py",
   "mimetype": "text/x-python",
   "name": "python",
   "nbconvert_exporter": "python",
   "pygments_lexer": "ipython3",
   "version": "3.12.4"
  }
 },
 "nbformat": 4,
 "nbformat_minor": 5
}
